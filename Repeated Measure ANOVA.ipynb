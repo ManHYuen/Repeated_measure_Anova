{
 "cells": [
  {
   "cell_type": "code",
   "execution_count": 13,
   "metadata": {},
   "outputs": [],
   "source": [
    "# Repeated measure anova\n",
    "# Data for Weight Loss Program\n",
    "Person <- c(\"Al\", \"Bill\", \"Charlie\", \"Dan\", \"Ed\", \"Fred\", \"Gary\", \"Harry\", \"Irv\", \"Jon\")\n",
    "Before <- c(198, 201, 210, 185, 204, 156, 167, 197, 220, 186)\n",
    "One_Month_After <- c(194, 203, 200, 183, 200, 153, 166, 197, 215, 184)\n",
    "Two_Months_After <- c(191, 200, 192, 180, 195, 150, 167, 195, 209, 179)\n",
    "Three_Months_After <- c(188, 196, 188, 178, 191, 145, 166, 192, 205, 175)"
   ]
  },
  {
   "cell_type": "code",
   "execution_count": 45,
   "metadata": {},
   "outputs": [],
   "source": [
    "Weight_Loss <- data.frame(Person, Before, One_Month_After, Two_Months_After, Three_Months_After, stringsAsFactors=FALSE)"
   ]
  },
  {
   "cell_type": "code",
   "execution_count": 46,
   "metadata": {},
   "outputs": [
    {
     "data": {
      "text/html": [
       "<table>\n",
       "<thead><tr><th scope=col>Person</th><th scope=col>Before</th><th scope=col>One_Month_After</th><th scope=col>Two_Months_After</th><th scope=col>Three_Months_After</th></tr></thead>\n",
       "<tbody>\n",
       "\t<tr><td>Al     </td><td>198    </td><td>194    </td><td>191    </td><td>188    </td></tr>\n",
       "\t<tr><td>Bill   </td><td>201    </td><td>203    </td><td>200    </td><td>196    </td></tr>\n",
       "\t<tr><td>Charlie</td><td>210    </td><td>200    </td><td>192    </td><td>188    </td></tr>\n",
       "\t<tr><td>Dan    </td><td>185    </td><td>183    </td><td>180    </td><td>178    </td></tr>\n",
       "\t<tr><td>Ed     </td><td>204    </td><td>200    </td><td>195    </td><td>191    </td></tr>\n",
       "\t<tr><td>Fred   </td><td>156    </td><td>153    </td><td>150    </td><td>145    </td></tr>\n",
       "\t<tr><td>Gary   </td><td>167    </td><td>166    </td><td>167    </td><td>166    </td></tr>\n",
       "\t<tr><td>Harry  </td><td>197    </td><td>197    </td><td>195    </td><td>192    </td></tr>\n",
       "\t<tr><td>Irv    </td><td>220    </td><td>215    </td><td>209    </td><td>205    </td></tr>\n",
       "\t<tr><td>Jon    </td><td>186    </td><td>184    </td><td>179    </td><td>175    </td></tr>\n",
       "</tbody>\n",
       "</table>\n"
      ],
      "text/latex": [
       "\\begin{tabular}{r|lllll}\n",
       " Person & Before & One\\_Month\\_After & Two\\_Months\\_After & Three\\_Months\\_After\\\\\n",
       "\\hline\n",
       "\t Al      & 198     & 194     & 191     & 188    \\\\\n",
       "\t Bill    & 201     & 203     & 200     & 196    \\\\\n",
       "\t Charlie & 210     & 200     & 192     & 188    \\\\\n",
       "\t Dan     & 185     & 183     & 180     & 178    \\\\\n",
       "\t Ed      & 204     & 200     & 195     & 191    \\\\\n",
       "\t Fred    & 156     & 153     & 150     & 145    \\\\\n",
       "\t Gary    & 167     & 166     & 167     & 166    \\\\\n",
       "\t Harry   & 197     & 197     & 195     & 192    \\\\\n",
       "\t Irv     & 220     & 215     & 209     & 205    \\\\\n",
       "\t Jon     & 186     & 184     & 179     & 175    \\\\\n",
       "\\end{tabular}\n"
      ],
      "text/markdown": [
       "\n",
       "Person | Before | One_Month_After | Two_Months_After | Three_Months_After | \n",
       "|---|---|---|---|---|---|---|---|---|---|\n",
       "| Al      | 198     | 194     | 191     | 188     | \n",
       "| Bill    | 201     | 203     | 200     | 196     | \n",
       "| Charlie | 210     | 200     | 192     | 188     | \n",
       "| Dan     | 185     | 183     | 180     | 178     | \n",
       "| Ed      | 204     | 200     | 195     | 191     | \n",
       "| Fred    | 156     | 153     | 150     | 145     | \n",
       "| Gary    | 167     | 166     | 167     | 166     | \n",
       "| Harry   | 197     | 197     | 195     | 192     | \n",
       "| Irv     | 220     | 215     | 209     | 205     | \n",
       "| Jon     | 186     | 184     | 179     | 175     | \n",
       "\n",
       "\n"
      ],
      "text/plain": [
       "   Person  Before One_Month_After Two_Months_After Three_Months_After\n",
       "1  Al      198    194             191              188               \n",
       "2  Bill    201    203             200              196               \n",
       "3  Charlie 210    200             192              188               \n",
       "4  Dan     185    183             180              178               \n",
       "5  Ed      204    200             195              191               \n",
       "6  Fred    156    153             150              145               \n",
       "7  Gary    167    166             167              166               \n",
       "8  Harry   197    197             195              192               \n",
       "9  Irv     220    215             209              205               \n",
       "10 Jon     186    184             179              175               "
      ]
     },
     "metadata": {},
     "output_type": "display_data"
    }
   ],
   "source": [
    "Weight_Loss"
   ]
  },
  {
   "cell_type": "code",
   "execution_count": 47,
   "metadata": {},
   "outputs": [
    {
     "name": "stderr",
     "output_type": "stream",
     "text": [
      "Warning message in mean.default(X[[i]], ...):\n",
      "“argument is not numeric or logical: returning NA”"
     ]
    }
   ],
   "source": [
    "Weight_Loss <- rbind(Weight_Loss, sapply(Weight_Loss, mean))"
   ]
  },
  {
   "cell_type": "code",
   "execution_count": 49,
   "metadata": {},
   "outputs": [
    {
     "data": {
      "text/html": [
       "<table>\n",
       "<thead><tr><th scope=col>Person</th><th scope=col>Before</th><th scope=col>One_Month_After</th><th scope=col>Two_Months_After</th><th scope=col>Three_Months_After</th></tr></thead>\n",
       "<tbody>\n",
       "\t<tr><td>Al     </td><td>198.0  </td><td>194.0  </td><td>191.0  </td><td>188.0  </td></tr>\n",
       "\t<tr><td>Bill   </td><td>201.0  </td><td>203.0  </td><td>200.0  </td><td>196.0  </td></tr>\n",
       "\t<tr><td>Charlie</td><td>210.0  </td><td>200.0  </td><td>192.0  </td><td>188.0  </td></tr>\n",
       "\t<tr><td>Dan    </td><td>185.0  </td><td>183.0  </td><td>180.0  </td><td>178.0  </td></tr>\n",
       "\t<tr><td>Ed     </td><td>204.0  </td><td>200.0  </td><td>195.0  </td><td>191.0  </td></tr>\n",
       "\t<tr><td>Fred   </td><td>156.0  </td><td>153.0  </td><td>150.0  </td><td>145.0  </td></tr>\n",
       "\t<tr><td>Gary   </td><td>167.0  </td><td>166.0  </td><td>167.0  </td><td>166.0  </td></tr>\n",
       "\t<tr><td>Harry  </td><td>197.0  </td><td>197.0  </td><td>195.0  </td><td>192.0  </td></tr>\n",
       "\t<tr><td>Irv    </td><td>220.0  </td><td>215.0  </td><td>209.0  </td><td>205.0  </td></tr>\n",
       "\t<tr><td>Jon    </td><td>186.0  </td><td>184.0  </td><td>179.0  </td><td>175.0  </td></tr>\n",
       "\t<tr><td>Mean   </td><td>192.4  </td><td>189.5  </td><td>185.8  </td><td>182.4  </td></tr>\n",
       "</tbody>\n",
       "</table>\n"
      ],
      "text/latex": [
       "\\begin{tabular}{r|lllll}\n",
       " Person & Before & One\\_Month\\_After & Two\\_Months\\_After & Three\\_Months\\_After\\\\\n",
       "\\hline\n",
       "\t Al      & 198.0   & 194.0   & 191.0   & 188.0  \\\\\n",
       "\t Bill    & 201.0   & 203.0   & 200.0   & 196.0  \\\\\n",
       "\t Charlie & 210.0   & 200.0   & 192.0   & 188.0  \\\\\n",
       "\t Dan     & 185.0   & 183.0   & 180.0   & 178.0  \\\\\n",
       "\t Ed      & 204.0   & 200.0   & 195.0   & 191.0  \\\\\n",
       "\t Fred    & 156.0   & 153.0   & 150.0   & 145.0  \\\\\n",
       "\t Gary    & 167.0   & 166.0   & 167.0   & 166.0  \\\\\n",
       "\t Harry   & 197.0   & 197.0   & 195.0   & 192.0  \\\\\n",
       "\t Irv     & 220.0   & 215.0   & 209.0   & 205.0  \\\\\n",
       "\t Jon     & 186.0   & 184.0   & 179.0   & 175.0  \\\\\n",
       "\t Mean    & 192.4   & 189.5   & 185.8   & 182.4  \\\\\n",
       "\\end{tabular}\n"
      ],
      "text/markdown": [
       "\n",
       "Person | Before | One_Month_After | Two_Months_After | Three_Months_After | \n",
       "|---|---|---|---|---|---|---|---|---|---|---|\n",
       "| Al      | 198.0   | 194.0   | 191.0   | 188.0   | \n",
       "| Bill    | 201.0   | 203.0   | 200.0   | 196.0   | \n",
       "| Charlie | 210.0   | 200.0   | 192.0   | 188.0   | \n",
       "| Dan     | 185.0   | 183.0   | 180.0   | 178.0   | \n",
       "| Ed      | 204.0   | 200.0   | 195.0   | 191.0   | \n",
       "| Fred    | 156.0   | 153.0   | 150.0   | 145.0   | \n",
       "| Gary    | 167.0   | 166.0   | 167.0   | 166.0   | \n",
       "| Harry   | 197.0   | 197.0   | 195.0   | 192.0   | \n",
       "| Irv     | 220.0   | 215.0   | 209.0   | 205.0   | \n",
       "| Jon     | 186.0   | 184.0   | 179.0   | 175.0   | \n",
       "| Mean    | 192.4   | 189.5   | 185.8   | 182.4   | \n",
       "\n",
       "\n"
      ],
      "text/plain": [
       "   Person  Before One_Month_After Two_Months_After Three_Months_After\n",
       "1  Al      198.0  194.0           191.0            188.0             \n",
       "2  Bill    201.0  203.0           200.0            196.0             \n",
       "3  Charlie 210.0  200.0           192.0            188.0             \n",
       "4  Dan     185.0  183.0           180.0            178.0             \n",
       "5  Ed      204.0  200.0           195.0            191.0             \n",
       "6  Fred    156.0  153.0           150.0            145.0             \n",
       "7  Gary    167.0  166.0           167.0            166.0             \n",
       "8  Harry   197.0  197.0           195.0            192.0             \n",
       "9  Irv     220.0  215.0           209.0            205.0             \n",
       "10 Jon     186.0  184.0           179.0            175.0             \n",
       "11 Mean    192.4  189.5           185.8            182.4             "
      ]
     },
     "metadata": {},
     "output_type": "display_data"
    }
   ],
   "source": [
    "Weight_Loss"
   ]
  },
  {
   "cell_type": "code",
   "execution_count": 55,
   "metadata": {},
   "outputs": [],
   "source": [
    "Weight_Loss <- cbind(Weight_Loss, apply(Weight_Loss[, 2:5], 1, mean))"
   ]
  },
  {
   "cell_type": "code",
   "execution_count": 59,
   "metadata": {},
   "outputs": [],
   "source": [
    "colnames(Weight_Loss)[6] <- \"Mean\""
   ]
  },
  {
   "cell_type": "code",
   "execution_count": 60,
   "metadata": {},
   "outputs": [
    {
     "data": {
      "text/html": [
       "<table>\n",
       "<thead><tr><th scope=col>Person</th><th scope=col>Before</th><th scope=col>One_Month_After</th><th scope=col>Two_Months_After</th><th scope=col>Three_Months_After</th><th scope=col>Mean</th></tr></thead>\n",
       "<tbody>\n",
       "\t<tr><td>Al     </td><td>198.0  </td><td>194.0  </td><td>191.0  </td><td>188.0  </td><td>192.750</td></tr>\n",
       "\t<tr><td>Bill   </td><td>201.0  </td><td>203.0  </td><td>200.0  </td><td>196.0  </td><td>200.000</td></tr>\n",
       "\t<tr><td>Charlie</td><td>210.0  </td><td>200.0  </td><td>192.0  </td><td>188.0  </td><td>197.500</td></tr>\n",
       "\t<tr><td>Dan    </td><td>185.0  </td><td>183.0  </td><td>180.0  </td><td>178.0  </td><td>181.500</td></tr>\n",
       "\t<tr><td>Ed     </td><td>204.0  </td><td>200.0  </td><td>195.0  </td><td>191.0  </td><td>197.500</td></tr>\n",
       "\t<tr><td>Fred   </td><td>156.0  </td><td>153.0  </td><td>150.0  </td><td>145.0  </td><td>151.000</td></tr>\n",
       "\t<tr><td>Gary   </td><td>167.0  </td><td>166.0  </td><td>167.0  </td><td>166.0  </td><td>166.500</td></tr>\n",
       "\t<tr><td>Harry  </td><td>197.0  </td><td>197.0  </td><td>195.0  </td><td>192.0  </td><td>195.250</td></tr>\n",
       "\t<tr><td>Irv    </td><td>220.0  </td><td>215.0  </td><td>209.0  </td><td>205.0  </td><td>212.250</td></tr>\n",
       "\t<tr><td>Jon    </td><td>186.0  </td><td>184.0  </td><td>179.0  </td><td>175.0  </td><td>181.000</td></tr>\n",
       "\t<tr><td>Mean   </td><td>192.4  </td><td>189.5  </td><td>185.8  </td><td>182.4  </td><td>187.525</td></tr>\n",
       "</tbody>\n",
       "</table>\n"
      ],
      "text/latex": [
       "\\begin{tabular}{r|llllll}\n",
       " Person & Before & One\\_Month\\_After & Two\\_Months\\_After & Three\\_Months\\_After & Mean\\\\\n",
       "\\hline\n",
       "\t Al      & 198.0   & 194.0   & 191.0   & 188.0   & 192.750\\\\\n",
       "\t Bill    & 201.0   & 203.0   & 200.0   & 196.0   & 200.000\\\\\n",
       "\t Charlie & 210.0   & 200.0   & 192.0   & 188.0   & 197.500\\\\\n",
       "\t Dan     & 185.0   & 183.0   & 180.0   & 178.0   & 181.500\\\\\n",
       "\t Ed      & 204.0   & 200.0   & 195.0   & 191.0   & 197.500\\\\\n",
       "\t Fred    & 156.0   & 153.0   & 150.0   & 145.0   & 151.000\\\\\n",
       "\t Gary    & 167.0   & 166.0   & 167.0   & 166.0   & 166.500\\\\\n",
       "\t Harry   & 197.0   & 197.0   & 195.0   & 192.0   & 195.250\\\\\n",
       "\t Irv     & 220.0   & 215.0   & 209.0   & 205.0   & 212.250\\\\\n",
       "\t Jon     & 186.0   & 184.0   & 179.0   & 175.0   & 181.000\\\\\n",
       "\t Mean    & 192.4   & 189.5   & 185.8   & 182.4   & 187.525\\\\\n",
       "\\end{tabular}\n"
      ],
      "text/markdown": [
       "\n",
       "Person | Before | One_Month_After | Two_Months_After | Three_Months_After | Mean | \n",
       "|---|---|---|---|---|---|---|---|---|---|---|\n",
       "| Al      | 198.0   | 194.0   | 191.0   | 188.0   | 192.750 | \n",
       "| Bill    | 201.0   | 203.0   | 200.0   | 196.0   | 200.000 | \n",
       "| Charlie | 210.0   | 200.0   | 192.0   | 188.0   | 197.500 | \n",
       "| Dan     | 185.0   | 183.0   | 180.0   | 178.0   | 181.500 | \n",
       "| Ed      | 204.0   | 200.0   | 195.0   | 191.0   | 197.500 | \n",
       "| Fred    | 156.0   | 153.0   | 150.0   | 145.0   | 151.000 | \n",
       "| Gary    | 167.0   | 166.0   | 167.0   | 166.0   | 166.500 | \n",
       "| Harry   | 197.0   | 197.0   | 195.0   | 192.0   | 195.250 | \n",
       "| Irv     | 220.0   | 215.0   | 209.0   | 205.0   | 212.250 | \n",
       "| Jon     | 186.0   | 184.0   | 179.0   | 175.0   | 181.000 | \n",
       "| Mean    | 192.4   | 189.5   | 185.8   | 182.4   | 187.525 | \n",
       "\n",
       "\n"
      ],
      "text/plain": [
       "   Person  Before One_Month_After Two_Months_After Three_Months_After Mean   \n",
       "1  Al      198.0  194.0           191.0            188.0              192.750\n",
       "2  Bill    201.0  203.0           200.0            196.0              200.000\n",
       "3  Charlie 210.0  200.0           192.0            188.0              197.500\n",
       "4  Dan     185.0  183.0           180.0            178.0              181.500\n",
       "5  Ed      204.0  200.0           195.0            191.0              197.500\n",
       "6  Fred    156.0  153.0           150.0            145.0              151.000\n",
       "7  Gary    167.0  166.0           167.0            166.0              166.500\n",
       "8  Harry   197.0  197.0           195.0            192.0              195.250\n",
       "9  Irv     220.0  215.0           209.0            205.0              212.250\n",
       "10 Jon     186.0  184.0           179.0            175.0              181.000\n",
       "11 Mean    192.4  189.5           185.8            182.4              187.525"
      ]
     },
     "metadata": {},
     "output_type": "display_data"
    }
   ],
   "source": [
    "Weight_Loss"
   ]
  },
  {
   "cell_type": "code",
   "execution_count": 61,
   "metadata": {},
   "outputs": [],
   "source": [
    "# is the program effective?\n",
    "# H0: mean(before) = mean(One_Month_After) = mean(Two_Months_After) = mean(three_Months_After)\n",
    "# H1: Not H0"
   ]
  },
  {
   "cell_type": "code",
   "execution_count": 109,
   "metadata": {},
   "outputs": [
    {
     "data": {
      "text/html": [
       "<ol class=list-inline>\n",
       "\t<li>3636.05625</li>\n",
       "\t<li>3125.50625</li>\n",
       "\t<li>2719.35625</li>\n",
       "\t<li>2929.05625</li>\n",
       "</ol>\n"
      ],
      "text/latex": [
       "\\begin{enumerate*}\n",
       "\\item 3636.05625\n",
       "\\item 3125.50625\n",
       "\\item 2719.35625\n",
       "\\item 2929.05625\n",
       "\\end{enumerate*}\n"
      ],
      "text/markdown": [
       "1. 3636.05625\n",
       "2. 3125.50625\n",
       "3. 2719.35625\n",
       "4. 2929.05625\n",
       "\n",
       "\n"
      ],
      "text/plain": [
       "[1] 3636.056 3125.506 2719.356 2929.056"
      ]
     },
     "metadata": {},
     "output_type": "display_data"
    }
   ],
   "source": [
    "# The SST for this table is\n",
    "(SST <- c(sum((Weight_Loss$Before - 187.525)[1:10] ** 2), sum((Weight_Loss$One_Month_After[1:10] - 187.525) ** 2), sum((Weight_Loss$Two_Months_After[1:10] - 187.525) ** 2), sum((Weight_Loss$Three_Months_After[1:10] - 187.525) ** 2)))"
   ]
  },
  {
   "cell_type": "code",
   "execution_count": 113,
   "metadata": {},
   "outputs": [
    {
     "data": {
      "text/html": [
       "12409.975"
      ],
      "text/latex": [
       "12409.975"
      ],
      "text/markdown": [
       "12409.975"
      ],
      "text/plain": [
       "[1] 12409.98"
      ]
     },
     "metadata": {},
     "output_type": "display_data"
    },
    {
     "data": {
      "text/html": [
       "318.204487179487"
      ],
      "text/latex": [
       "318.204487179487"
      ],
      "text/markdown": [
       "318.204487179487"
      ],
      "text/plain": [
       "[1] 318.2045"
      ]
     },
     "metadata": {},
     "output_type": "display_data"
    }
   ],
   "source": [
    "# The MST is\n",
    "sum(SST)\n",
    "sum(SST) / (40 - 1)"
   ]
  },
  {
   "cell_type": "code",
   "execution_count": 116,
   "metadata": {},
   "outputs": [
    {
     "data": {
      "text/html": [
       "<ol class=list-inline>\n",
       "\t<li>27.3006249999999</li>\n",
       "\t<li>155.625625</li>\n",
       "\t<li>99.5006249999999</li>\n",
       "\t<li>36.3006250000001</li>\n",
       "\t<li>99.5006249999999</li>\n",
       "\t<li>1334.075625</li>\n",
       "\t<li>442.050625</li>\n",
       "\t<li>59.6756249999999</li>\n",
       "\t<li>611.325625</li>\n",
       "\t<li>42.5756250000001</li>\n",
       "</ol>\n"
      ],
      "text/latex": [
       "\\begin{enumerate*}\n",
       "\\item 27.3006249999999\n",
       "\\item 155.625625\n",
       "\\item 99.5006249999999\n",
       "\\item 36.3006250000001\n",
       "\\item 99.5006249999999\n",
       "\\item 1334.075625\n",
       "\\item 442.050625\n",
       "\\item 59.6756249999999\n",
       "\\item 611.325625\n",
       "\\item 42.5756250000001\n",
       "\\end{enumerate*}\n"
      ],
      "text/markdown": [
       "1. 27.3006249999999\n",
       "2. 155.625625\n",
       "3. 99.5006249999999\n",
       "4. 36.3006250000001\n",
       "5. 99.5006249999999\n",
       "6. 1334.075625\n",
       "7. 442.050625\n",
       "8. 59.6756249999999\n",
       "9. 611.325625\n",
       "10. 42.5756250000001\n",
       "\n",
       "\n"
      ],
      "text/plain": [
       " [1]   27.30062  155.62562   99.50062   36.30063   99.50062 1334.07563\n",
       " [7]  442.05063   59.67562  611.32562   42.57563"
      ]
     },
     "metadata": {},
     "output_type": "display_data"
    }
   ],
   "source": [
    "# The SS(Row) is\n",
    "(SSRow <- c((Weight_Loss$Mean - 187.525)[1:10] ** 2))"
   ]
  },
  {
   "cell_type": "code",
   "execution_count": 118,
   "metadata": {},
   "outputs": [
    {
     "data": {
      "text/html": [
       "11631.725"
      ],
      "text/latex": [
       "11631.725"
      ],
      "text/markdown": [
       "11631.725"
      ],
      "text/plain": [
       "[1] 11631.73"
      ]
     },
     "metadata": {},
     "output_type": "display_data"
    },
    {
     "data": {
      "text/html": [
       "1292.41388888889"
      ],
      "text/latex": [
       "1292.41388888889"
      ],
      "text/markdown": [
       "1292.41388888889"
      ],
      "text/plain": [
       "[1] 1292.414"
      ]
     },
     "metadata": {},
     "output_type": "display_data"
    }
   ],
   "source": [
    "sum(SSRow) * 4\n",
    "sum(SSRow) * 4 / (10 - 1)"
   ]
  },
  {
   "cell_type": "code",
   "execution_count": 92,
   "metadata": {},
   "outputs": [
    {
     "data": {
      "text/html": [
       "<dl>\n",
       "\t<dt>$Before</dt>\n",
       "\t\t<dd>23.765625</dd>\n",
       "\t<dt>$One_Month_After</dt>\n",
       "\t\t<dd>3.90062499999998</dd>\n",
       "\t<dt>$Two_Months_After</dt>\n",
       "\t\t<dd>2.97562499999998</dd>\n",
       "\t<dt>$Three_Months_After</dt>\n",
       "\t\t<dd>26.265625</dd>\n",
       "</dl>\n"
      ],
      "text/latex": [
       "\\begin{description}\n",
       "\\item[\\$Before] 23.765625\n",
       "\\item[\\$One\\_Month\\_After] 3.90062499999998\n",
       "\\item[\\$Two\\_Months\\_After] 2.97562499999998\n",
       "\\item[\\$Three\\_Months\\_After] 26.265625\n",
       "\\end{description}\n"
      ],
      "text/markdown": [
       "$Before\n",
       ":   23.765625\n",
       "$One_Month_After\n",
       ":   3.90062499999998\n",
       "$Two_Months_After\n",
       ":   2.97562499999998\n",
       "$Three_Months_After\n",
       ":   26.265625\n",
       "\n",
       "\n"
      ],
      "text/plain": [
       "$Before\n",
       "[1] 23.76562\n",
       "\n",
       "$One_Month_After\n",
       "[1] 3.900625\n",
       "\n",
       "$Two_Months_After\n",
       "[1] 2.975625\n",
       "\n",
       "$Three_Months_After\n",
       "[1] 26.26562\n"
      ]
     },
     "metadata": {},
     "output_type": "display_data"
    }
   ],
   "source": [
    "# The SS(column) is\n",
    "(SScolumn <- c((Weight_Loss[11,2:5] - 187.525) ** 2))"
   ]
  },
  {
   "cell_type": "code",
   "execution_count": 120,
   "metadata": {},
   "outputs": [
    {
     "data": {
      "text/html": [
       "569.075"
      ],
      "text/latex": [
       "569.075"
      ],
      "text/markdown": [
       "569.075"
      ],
      "text/plain": [
       "[1] 569.075"
      ]
     },
     "metadata": {},
     "output_type": "display_data"
    },
    {
     "data": {
      "text/html": [
       "189.691666666667"
      ],
      "text/latex": [
       "189.691666666667"
      ],
      "text/markdown": [
       "189.691666666667"
      ],
      "text/plain": [
       "[1] 189.6917"
      ]
     },
     "metadata": {},
     "output_type": "display_data"
    }
   ],
   "source": [
    "sum(unlist(SScolumn)) * 10\n",
    "sum(unlist(SScolumn)) * 10 / (4 - 1)"
   ]
  },
  {
   "cell_type": "code",
   "execution_count": 128,
   "metadata": {},
   "outputs": [
    {
     "data": {
      "text/html": [
       "7.75"
      ],
      "text/latex": [
       "7.75"
      ],
      "text/markdown": [
       "7.75"
      ],
      "text/plain": [
       "[1] 7.75"
      ]
     },
     "metadata": {},
     "output_type": "display_data"
    }
   ],
   "source": [
    "# Calculate MS(Error)\n",
    "round((sum(SST) - (sum(SSRow) * 4) - (sum(unlist(SScolumn)) * 10)) / ((40 - 1) - (10 - 1) - (4 - 1)), 2)"
   ]
  },
  {
   "cell_type": "code",
   "execution_count": 132,
   "metadata": {},
   "outputs": [
    {
     "data": {
      "text/html": [
       "24.48"
      ],
      "text/latex": [
       "24.48"
      ],
      "text/markdown": [
       "24.48"
      ],
      "text/plain": [
       "[1] 24.48"
      ]
     },
     "metadata": {},
     "output_type": "display_data"
    }
   ],
   "source": [
    "# The F ststistic is\n",
    "# MS(column) / MS(Error)\n",
    "round(round(sum(unlist(SScolumn)) * 10 / (4 - 1), 2) / 7.75, 2)"
   ]
  },
  {
   "cell_type": "code",
   "execution_count": 133,
   "metadata": {},
   "outputs": [
    {
     "data": {
      "text/html": [
       "2.96035131841129"
      ],
      "text/latex": [
       "2.96035131841129"
      ],
      "text/markdown": [
       "2.96035131841129"
      ],
      "text/plain": [
       "[1] 2.960351"
      ]
     },
     "metadata": {},
     "output_type": "display_data"
    }
   ],
   "source": [
    "# with alpha = 0.05, the critcal f value is\n",
    "qf(0.05, df1 = 3, df2 = 27, lower.tail=FALSE)"
   ]
  },
  {
   "cell_type": "code",
   "execution_count": 134,
   "metadata": {},
   "outputs": [],
   "source": [
    "# since 24.48 is way bigger than 2.96, we can reject the null hypothesis"
   ]
  },
  {
   "cell_type": "code",
   "execution_count": 135,
   "metadata": {},
   "outputs": [],
   "source": [
    "# using aov() to get the result"
   ]
  },
  {
   "cell_type": "code",
   "execution_count": 138,
   "metadata": {},
   "outputs": [],
   "source": [
    "library(reshape2)"
   ]
  },
  {
   "cell_type": "code",
   "execution_count": 166,
   "metadata": {},
   "outputs": [],
   "source": [
    "Weight_Loss.melt <- melt(Weight_Loss[1:10, 1:5], id=\"Person\")\n",
    "colnames(Weight_Loss.melt) <- c(\"Person\", \"Time\", \"Weight\")"
   ]
  },
  {
   "cell_type": "code",
   "execution_count": 167,
   "metadata": {},
   "outputs": [
    {
     "data": {
      "text/html": [
       "<table>\n",
       "<thead><tr><th scope=col>Person</th><th scope=col>Time</th><th scope=col>Weight</th></tr></thead>\n",
       "<tbody>\n",
       "\t<tr><td>Al     </td><td>Before </td><td>198    </td></tr>\n",
       "\t<tr><td>Bill   </td><td>Before </td><td>201    </td></tr>\n",
       "\t<tr><td>Charlie</td><td>Before </td><td>210    </td></tr>\n",
       "\t<tr><td>Dan    </td><td>Before </td><td>185    </td></tr>\n",
       "\t<tr><td>Ed     </td><td>Before </td><td>204    </td></tr>\n",
       "\t<tr><td>Fred   </td><td>Before </td><td>156    </td></tr>\n",
       "</tbody>\n",
       "</table>\n"
      ],
      "text/latex": [
       "\\begin{tabular}{r|lll}\n",
       " Person & Time & Weight\\\\\n",
       "\\hline\n",
       "\t Al      & Before  & 198    \\\\\n",
       "\t Bill    & Before  & 201    \\\\\n",
       "\t Charlie & Before  & 210    \\\\\n",
       "\t Dan     & Before  & 185    \\\\\n",
       "\t Ed      & Before  & 204    \\\\\n",
       "\t Fred    & Before  & 156    \\\\\n",
       "\\end{tabular}\n"
      ],
      "text/markdown": [
       "\n",
       "Person | Time | Weight | \n",
       "|---|---|---|---|---|---|\n",
       "| Al      | Before  | 198     | \n",
       "| Bill    | Before  | 201     | \n",
       "| Charlie | Before  | 210     | \n",
       "| Dan     | Before  | 185     | \n",
       "| Ed      | Before  | 204     | \n",
       "| Fred    | Before  | 156     | \n",
       "\n",
       "\n"
      ],
      "text/plain": [
       "  Person  Time   Weight\n",
       "1 Al      Before 198   \n",
       "2 Bill    Before 201   \n",
       "3 Charlie Before 210   \n",
       "4 Dan     Before 185   \n",
       "5 Ed      Before 204   \n",
       "6 Fred    Before 156   "
      ]
     },
     "metadata": {},
     "output_type": "display_data"
    }
   ],
   "source": [
    "head(Weight_Loss.melt)"
   ]
  },
  {
   "cell_type": "code",
   "execution_count": 153,
   "metadata": {},
   "outputs": [
    {
     "data": {
      "text/html": [
       "11840.9"
      ],
      "text/latex": [
       "11840.9"
      ],
      "text/markdown": [
       "11840.9"
      ],
      "text/plain": [
       "[1] 11840.9"
      ]
     },
     "metadata": {},
     "output_type": "display_data"
    }
   ],
   "source": [
    "# this is the SS(within) without taking person and the different time each person experience into consideration\n",
    "sum((Weight_Loss$Before[1:10] - Weight_Loss$Before[11]) ** 2) + sum((Weight_Loss$One_Month_After[1:10] - Weight_Loss$One_Month_After[11]) ** 2) + sum((Weight_Loss$Two_Months_After[1:10] - Weight_Loss$Two_Months_After[11]) ** 2) + sum((Weight_Loss$Three_Months_After[1:10] - Weight_Loss$Three_Months_After[11]) ** 2)"
   ]
  },
  {
   "cell_type": "code",
   "execution_count": 168,
   "metadata": {},
   "outputs": [],
   "source": [
    "# we can replicate the result using aov()\n",
    "without_person_time <- aov(Weight ~ Time, data = Weight_Loss.melt)"
   ]
  },
  {
   "cell_type": "code",
   "execution_count": 169,
   "metadata": {},
   "outputs": [
    {
     "data": {
      "text/plain": [
       "            Df Sum Sq Mean Sq F value Pr(>F)\n",
       "Time         3    569   189.7   0.577  0.634\n",
       "Residuals   36  11841   328.9               "
      ]
     },
     "metadata": {},
     "output_type": "display_data"
    }
   ],
   "source": [
    "summary(without_person_time) # the residual only take the different time into account"
   ]
  },
  {
   "cell_type": "code",
   "execution_count": 172,
   "metadata": {},
   "outputs": [],
   "source": [
    "# we can modify the independent variable to get the correct result\n",
    "with_person_time <- aov(Weight ~ Time + Error(Person/Time), data = Weight_Loss.melt)"
   ]
  },
  {
   "cell_type": "code",
   "execution_count": 173,
   "metadata": {},
   "outputs": [
    {
     "data": {
      "text/plain": [
       "\n",
       "Error: Person\n",
       "          Df Sum Sq Mean Sq F value Pr(>F)\n",
       "Residuals  9  11632    1292               \n",
       "\n",
       "Error: Person:Time\n",
       "          Df Sum Sq Mean Sq F value  Pr(>F)    \n",
       "Time       3  569.1  189.69   24.48 7.3e-08 ***\n",
       "Residuals 27  209.2    7.75                    \n",
       "---\n",
       "Signif. codes:  0 ‘***’ 0.001 ‘**’ 0.01 ‘*’ 0.05 ‘.’ 0.1 ‘ ’ 1"
      ]
     },
     "metadata": {},
     "output_type": "display_data"
    }
   ],
   "source": [
    "summary(with_person_time)"
   ]
  },
  {
   "cell_type": "code",
   "execution_count": 174,
   "metadata": {},
   "outputs": [],
   "source": [
    "# this take into consideration of different person at differrent time, and it generate the same result as above\n",
    "# since the F value (24.48) > (2.96), we can reject the null hypothesis"
   ]
  },
  {
   "cell_type": "code",
   "execution_count": null,
   "metadata": {},
   "outputs": [],
   "source": []
  }
 ],
 "metadata": {
  "kernelspec": {
   "display_name": "R",
   "language": "R",
   "name": "ir"
  },
  "language_info": {
   "codemirror_mode": "r",
   "file_extension": ".r",
   "mimetype": "text/x-r-source",
   "name": "R",
   "pygments_lexer": "r",
   "version": "3.5.0"
  }
 },
 "nbformat": 4,
 "nbformat_minor": 2
}
